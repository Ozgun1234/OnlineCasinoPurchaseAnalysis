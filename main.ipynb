{
 "cells": [
  {
   "cell_type": "markdown",
   "metadata": {},
   "source": [
    "## Importing Dependincies"
   ]
  },
  {
   "cell_type": "code",
   "execution_count": 178,
   "metadata": {},
   "outputs": [],
   "source": [
    "import pandas as pd \n",
    "import numpy as np\n",
    "import datetime as dt\n",
    "from collections import Counter\n",
    "\n",
    "# Modeling\n",
    "from sklearn.preprocessing import LabelEncoder\n",
    "# !pip install xgboost\n",
    "import xgboost as xgb\n",
    "from sklearn.metrics import confusion_matrix\n",
    "\n",
    "# Visualization\n",
    "import matplotlib.pyplot as plt\n",
    "import seaborn as sns"
   ]
  },
  {
   "cell_type": "markdown",
   "metadata": {},
   "source": [
    "### Loading Dataset into enviroment"
   ]
  },
  {
   "cell_type": "code",
   "execution_count": 179,
   "metadata": {},
   "outputs": [
    {
     "data": {
      "text/html": [
       "<div>\n",
       "<style scoped>\n",
       "    .dataframe tbody tr th:only-of-type {\n",
       "        vertical-align: middle;\n",
       "    }\n",
       "\n",
       "    .dataframe tbody tr th {\n",
       "        vertical-align: top;\n",
       "    }\n",
       "\n",
       "    .dataframe thead th {\n",
       "        text-align: right;\n",
       "    }\n",
       "</style>\n",
       "<table border=\"1\" class=\"dataframe\">\n",
       "  <thead>\n",
       "    <tr style=\"text-align: right;\">\n",
       "      <th></th>\n",
       "      <th>ReqTimeUTC</th>\n",
       "      <th>TransactionType</th>\n",
       "      <th>TransactionAmount</th>\n",
       "      <th>Status</th>\n",
       "      <th>AccountIdentifier</th>\n",
       "    </tr>\n",
       "  </thead>\n",
       "  <tbody>\n",
       "    <tr>\n",
       "      <th>0</th>\n",
       "      <td>2019-07-05T05:02:28+0000</td>\n",
       "      <td>LOYALTYCARDDEBIT</td>\n",
       "      <td>10.0</td>\n",
       "      <td>APPROVED</td>\n",
       "      <td>customer1734</td>\n",
       "    </tr>\n",
       "    <tr>\n",
       "      <th>1</th>\n",
       "      <td>2019-07-05T05:26:00+0000</td>\n",
       "      <td>LOYALTYCARDDEBIT</td>\n",
       "      <td>10.0</td>\n",
       "      <td>APPROVED</td>\n",
       "      <td>customer1734</td>\n",
       "    </tr>\n",
       "    <tr>\n",
       "      <th>2</th>\n",
       "      <td>2019-07-05T04:54:35+0000</td>\n",
       "      <td>LOYALTYCARDCREDITCL</td>\n",
       "      <td>10.0</td>\n",
       "      <td>APPROVED</td>\n",
       "      <td>customer1734</td>\n",
       "    </tr>\n",
       "    <tr>\n",
       "      <th>3</th>\n",
       "      <td>2019-07-05T05:02:27+0000</td>\n",
       "      <td>LOYALTYCARDCREDITCL</td>\n",
       "      <td>10.0</td>\n",
       "      <td>APPROVED</td>\n",
       "      <td>customer1734</td>\n",
       "    </tr>\n",
       "    <tr>\n",
       "      <th>4</th>\n",
       "      <td>2019-07-05T05:25:59+0000</td>\n",
       "      <td>LOYALTYCARDCREDITCL</td>\n",
       "      <td>10.0</td>\n",
       "      <td>APPROVED</td>\n",
       "      <td>customer1734</td>\n",
       "    </tr>\n",
       "  </tbody>\n",
       "</table>\n",
       "</div>"
      ],
      "text/plain": [
       "                 ReqTimeUTC      TransactionType  TransactionAmount    Status  \\\n",
       "0  2019-07-05T05:02:28+0000     LOYALTYCARDDEBIT               10.0  APPROVED   \n",
       "1  2019-07-05T05:26:00+0000     LOYALTYCARDDEBIT               10.0  APPROVED   \n",
       "2  2019-07-05T04:54:35+0000  LOYALTYCARDCREDITCL               10.0  APPROVED   \n",
       "3  2019-07-05T05:02:27+0000  LOYALTYCARDCREDITCL               10.0  APPROVED   \n",
       "4  2019-07-05T05:25:59+0000  LOYALTYCARDCREDITCL               10.0  APPROVED   \n",
       "\n",
       "  AccountIdentifier  \n",
       "0      customer1734  \n",
       "1      customer1734  \n",
       "2      customer1734  \n",
       "3      customer1734  \n",
       "4      customer1734  "
      ]
     },
     "execution_count": 179,
     "metadata": {},
     "output_type": "execute_result"
    }
   ],
   "source": [
    "# Reading from csv\n",
    "casino = pd.read_csv(\"Online_casino_DIB.csv\")\n",
    "\n",
    "# Create a copy of orginal\n",
    "df = casino.copy()\n",
    "\n",
    "df.head()"
   ]
  },
  {
   "cell_type": "markdown",
   "metadata": {},
   "source": [
    "### Exploratory Data Analysis\n",
    "\n",
    "- 1st column is a timestamp."
   ]
  },
  {
   "cell_type": "code",
   "execution_count": 180,
   "metadata": {},
   "outputs": [
    {
     "data": {
      "text/plain": [
       "ReqTimeUTC            object\n",
       "TransactionType       object\n",
       "TransactionAmount    float64\n",
       "Status                object\n",
       "AccountIdentifier     object\n",
       "dtype: object"
      ]
     },
     "execution_count": 180,
     "metadata": {},
     "output_type": "execute_result"
    }
   ],
   "source": [
    "df.dtypes"
   ]
  },
  {
   "cell_type": "code",
   "execution_count": 181,
   "metadata": {},
   "outputs": [],
   "source": [
    "# Covert timestamp to datetime\n",
    "df.ReqTimeUTC = pd.to_datetime(df.ReqTimeUTC)\n"
   ]
  },
  {
   "cell_type": "code",
   "execution_count": 182,
   "metadata": {},
   "outputs": [
    {
     "data": {
      "text/html": [
       "<div>\n",
       "<style scoped>\n",
       "    .dataframe tbody tr th:only-of-type {\n",
       "        vertical-align: middle;\n",
       "    }\n",
       "\n",
       "    .dataframe tbody tr th {\n",
       "        vertical-align: top;\n",
       "    }\n",
       "\n",
       "    .dataframe thead th {\n",
       "        text-align: right;\n",
       "    }\n",
       "</style>\n",
       "<table border=\"1\" class=\"dataframe\">\n",
       "  <thead>\n",
       "    <tr style=\"text-align: right;\">\n",
       "      <th></th>\n",
       "      <th>count</th>\n",
       "      <th>unique</th>\n",
       "      <th>top</th>\n",
       "      <th>freq</th>\n",
       "      <th>mean</th>\n",
       "      <th>min</th>\n",
       "      <th>25%</th>\n",
       "      <th>50%</th>\n",
       "      <th>75%</th>\n",
       "      <th>max</th>\n",
       "    </tr>\n",
       "  </thead>\n",
       "  <tbody>\n",
       "    <tr>\n",
       "      <th>ReqTimeUTC</th>\n",
       "      <td>138928</td>\n",
       "      <td>NaN</td>\n",
       "      <td>NaN</td>\n",
       "      <td>NaN</td>\n",
       "      <td>2019-08-23 14:37:01.511898112+00:00</td>\n",
       "      <td>2019-03-01 08:03:23+00:00</td>\n",
       "      <td>2019-05-19 06:27:26.249999872+00:00</td>\n",
       "      <td>2019-08-21 13:32:02.500000+00:00</td>\n",
       "      <td>2019-11-23 20:28:33.500000+00:00</td>\n",
       "      <td>2020-03-02 07:47:06+00:00</td>\n",
       "    </tr>\n",
       "    <tr>\n",
       "      <th>TransactionType</th>\n",
       "      <td>138928</td>\n",
       "      <td>3</td>\n",
       "      <td>LOYALTYCARDDEBIT</td>\n",
       "      <td>70329</td>\n",
       "      <td>NaN</td>\n",
       "      <td>NaN</td>\n",
       "      <td>NaN</td>\n",
       "      <td>NaN</td>\n",
       "      <td>NaN</td>\n",
       "      <td>NaN</td>\n",
       "    </tr>\n",
       "    <tr>\n",
       "      <th>Status</th>\n",
       "      <td>138928</td>\n",
       "      <td>2</td>\n",
       "      <td>APPROVED</td>\n",
       "      <td>133520</td>\n",
       "      <td>NaN</td>\n",
       "      <td>NaN</td>\n",
       "      <td>NaN</td>\n",
       "      <td>NaN</td>\n",
       "      <td>NaN</td>\n",
       "      <td>NaN</td>\n",
       "    </tr>\n",
       "    <tr>\n",
       "      <th>AccountIdentifier</th>\n",
       "      <td>138928</td>\n",
       "      <td>2361</td>\n",
       "      <td>customer10</td>\n",
       "      <td>2318</td>\n",
       "      <td>NaN</td>\n",
       "      <td>NaN</td>\n",
       "      <td>NaN</td>\n",
       "      <td>NaN</td>\n",
       "      <td>NaN</td>\n",
       "      <td>NaN</td>\n",
       "    </tr>\n",
       "  </tbody>\n",
       "</table>\n",
       "</div>"
      ],
      "text/plain": [
       "                    count unique               top    freq  \\\n",
       "ReqTimeUTC         138928    NaN               NaN     NaN   \n",
       "TransactionType    138928      3  LOYALTYCARDDEBIT   70329   \n",
       "Status             138928      2          APPROVED  133520   \n",
       "AccountIdentifier  138928   2361        customer10    2318   \n",
       "\n",
       "                                                  mean  \\\n",
       "ReqTimeUTC         2019-08-23 14:37:01.511898112+00:00   \n",
       "TransactionType                                    NaN   \n",
       "Status                                             NaN   \n",
       "AccountIdentifier                                  NaN   \n",
       "\n",
       "                                         min  \\\n",
       "ReqTimeUTC         2019-03-01 08:03:23+00:00   \n",
       "TransactionType                          NaN   \n",
       "Status                                   NaN   \n",
       "AccountIdentifier                        NaN   \n",
       "\n",
       "                                                   25%  \\\n",
       "ReqTimeUTC         2019-05-19 06:27:26.249999872+00:00   \n",
       "TransactionType                                    NaN   \n",
       "Status                                             NaN   \n",
       "AccountIdentifier                                  NaN   \n",
       "\n",
       "                                                50%  \\\n",
       "ReqTimeUTC         2019-08-21 13:32:02.500000+00:00   \n",
       "TransactionType                                 NaN   \n",
       "Status                                          NaN   \n",
       "AccountIdentifier                               NaN   \n",
       "\n",
       "                                                75%                        max  \n",
       "ReqTimeUTC         2019-11-23 20:28:33.500000+00:00  2020-03-02 07:47:06+00:00  \n",
       "TransactionType                                 NaN                        NaN  \n",
       "Status                                          NaN                        NaN  \n",
       "AccountIdentifier                               NaN                        NaN  "
      ]
     },
     "execution_count": 182,
     "metadata": {},
     "output_type": "execute_result"
    }
   ],
   "source": [
    "df.describe(exclude = \"float64\").T # Describe with objects."
   ]
  },
  {
   "cell_type": "code",
   "execution_count": 183,
   "metadata": {},
   "outputs": [],
   "source": [
    "# Remove timestamps outside the range\n",
    "df = df[df.ReqTimeUTC <= \"2020-02-29 00:00:00+00:00\"].copy()"
   ]
  },
  {
   "cell_type": "code",
   "execution_count": 184,
   "metadata": {},
   "outputs": [
    {
     "data": {
      "text/plain": [
       "array(['LOYALTYCARDDEBIT', 'LOYALTYCARDCREDITCL', 'LOYALTYCARDCREDIT'],\n",
       "      dtype=object)"
      ]
     },
     "execution_count": 184,
     "metadata": {},
     "output_type": "execute_result"
    }
   ],
   "source": [
    "# Checking unique values of a columnm\n",
    "df.TransactionType.unique()"
   ]
  },
  {
   "cell_type": "markdown",
   "metadata": {},
   "source": [
    "#### Abbreviations came from dataset documentation.\n",
    "- L2D = Level 2 deposits.\n",
    "- L1D = Level 1 deposits made via a card or ACH respectively.\n",
    "- l2W = Level 2 withdrawals"
   ]
  },
  {
   "cell_type": "code",
   "execution_count": 185,
   "metadata": {},
   "outputs": [],
   "source": [
    "# Give new valuyes to df column\n",
    "df.TransactionType = df.TransactionType.map({\"LOYALTYCARDDEBIT\": \"L2D\", \"LOYALTYCARDCREDITCL\": \"L1D\", \"LOYALTYCARDCREDIT\": \"L2W\"}) \n"
   ]
  },
  {
   "cell_type": "code",
   "execution_count": 186,
   "metadata": {},
   "outputs": [
    {
     "data": {
      "text/plain": [
       "<Axes: xlabel='ReqTimeUTC', ylabel='Density'>"
      ]
     },
     "execution_count": 186,
     "metadata": {},
     "output_type": "execute_result"
    },
    {
     "data": {
      "image/png": "[encoded data removed]",
      "text/plain": [
       "<Figure size 640x480 with 1 Axes>"
      ]
     },
     "metadata": {},
     "output_type": "display_data"
    }
   ],
   "source": [
    "# Visualization.\n",
    "\n",
    "user_type_ = df.groupby([\"AccountIdentifier\", \"TransactionType\"]).count().reset_index()\n",
    "\n",
    "sns.histplot(data = user_type_, x=\"ReqTimeUTC\", hue = \"TransactionType\", cumulative = True, stat=\"density\", element=\"step\", fill=False)\n",
    "\n",
    "\n"
   ]
  },
  {
   "cell_type": "code",
   "execution_count": 187,
   "metadata": {},
   "outputs": [],
   "source": [
    "df = df[(df.TransactionType == \"L2D\")&(df.Status==\"APPROVED\")]"
   ]
  },
  {
   "cell_type": "code",
   "execution_count": 188,
   "metadata": {},
   "outputs": [],
   "source": [
    "# Top 20 customers\n",
    "top_20_freq = df.groupby(\"AccountIdentifier\").count().reset_index().iloc[:, 0:2].sort_values(\"ReqTimeUTC\")[::-1].head(20)\n",
    "\n",
    "top_20_spenders = df[[\"AccountIdentifier\", \"TransactionAmount\"]].groupby(\"AccountIdentifier\").sum().reset_index().sort_values(\"TransactionAmount\")[::-1].head(20)"
   ]
  },
  {
   "cell_type": "code",
   "execution_count": 189,
   "metadata": {},
   "outputs": [
    {
     "data": {
      "text/plain": [
       "<Axes: xlabel='TransactionAmount', ylabel='AccountIdentifier'>"
      ]
     },
     "execution_count": 189,
     "metadata": {},
     "output_type": "execute_result"
    },
    {
     "data": {
      "image/png": "[encoded data removed]",
      "text/plain": [
       "<Figure size 1500x500 with 2 Axes>"
      ]
     },
     "metadata": {},
     "output_type": "display_data"
    }
   ],
   "source": [
    "fig, ax = plt.subplots(ncols=2, figsize=(15, 5))\n",
    "\n",
    "sns.barplot(top_20_freq, x = \"ReqTimeUTC\", y=\"AccountIdentifier\", ax = ax[0])\n",
    "sns.barplot(top_20_spenders, x = \"TransactionAmount\", y = \"AccountIdentifier\", ax=ax[1])"
   ]
  },
  {
   "cell_type": "code",
   "execution_count": 190,
   "metadata": {},
   "outputs": [],
   "source": [
    "df[\"hour\"] = df.ReqTimeUTC.dt.hour\n",
    "df[\"day_of_week\"] = df.ReqTimeUTC.dt.day_of_week\n"
   ]
  },
  {
   "cell_type": "code",
   "execution_count": 191,
   "metadata": {},
   "outputs": [],
   "source": [
    "df[\"day_of_week\"] = df[\"day_of_week\"].map({0: \"1_Monday\", 1:\"2_Tuesday\", 2:\"3_Wednesday\",3:\"4_Thursday\",4:\"5_Friday\",5:\"6_Saturday\", 6:\"7_Sunday\"})"
   ]
  },
  {
   "cell_type": "code",
   "execution_count": 192,
   "metadata": {},
   "outputs": [],
   "source": [
    "h_d_g =df[[\"hour\", \"day_of_week\", \"TransactionType\"]].groupby([\"hour\", \"day_of_week\"]).count().reset_index()\n",
    "df_hm = pd.pivot_table(h_d_g, values=\"TransactionType\", index=\"day_of_week\", columns=\"hour\")"
   ]
  },
  {
   "cell_type": "code",
   "execution_count": 193,
   "metadata": {},
   "outputs": [
    {
     "data": {
      "text/plain": [
       "<Axes: xlabel='hour', ylabel='day_of_week'>"
      ]
     },
     "execution_count": 193,
     "metadata": {},
     "output_type": "execute_result"
    },
    {
     "data": {
      "image/png": "[encoded data removed]",
      "text/plain": [
       "<Figure size 640x480 with 2 Axes>"
      ]
     },
     "metadata": {},
     "output_type": "display_data"
    }
   ],
   "source": [
    "sns.heatmap(df_hm)"
   ]
  },
  {
   "cell_type": "code",
   "execution_count": 194,
   "metadata": {},
   "outputs": [
    {
     "name": "stderr",
     "output_type": "stream",
     "text": [
      "C:\\Users\\gulse\\AppData\\Local\\Temp\\ipykernel_142232\\4159565072.py:1: UserWarning: Converting to PeriodArray/Index representation will drop timezone information.\n",
      "  df[\"ReqDateUTC\"] = df.ReqTimeUTC.dt.to_period(\"D\")\n"
     ]
    },
    {
     "data": {
      "text/html": [
       "<div>\n",
       "<style scoped>\n",
       "    .dataframe tbody tr th:only-of-type {\n",
       "        vertical-align: middle;\n",
       "    }\n",
       "\n",
       "    .dataframe tbody tr th {\n",
       "        vertical-align: top;\n",
       "    }\n",
       "\n",
       "    .dataframe thead th {\n",
       "        text-align: right;\n",
       "    }\n",
       "</style>\n",
       "<table border=\"1\" class=\"dataframe\">\n",
       "  <thead>\n",
       "    <tr style=\"text-align: right;\">\n",
       "      <th></th>\n",
       "      <th>AccountIdentifier</th>\n",
       "      <th>ReqDateUTC</th>\n",
       "      <th>TransactionAmount</th>\n",
       "      <th>TransactionType</th>\n",
       "    </tr>\n",
       "  </thead>\n",
       "  <tbody>\n",
       "    <tr>\n",
       "      <th>0</th>\n",
       "      <td>customer1</td>\n",
       "      <td>2019-03-01</td>\n",
       "      <td>120.0</td>\n",
       "      <td>3</td>\n",
       "    </tr>\n",
       "    <tr>\n",
       "      <th>1</th>\n",
       "      <td>customer1</td>\n",
       "      <td>2019-03-02</td>\n",
       "      <td>125.0</td>\n",
       "      <td>2</td>\n",
       "    </tr>\n",
       "    <tr>\n",
       "      <th>2</th>\n",
       "      <td>customer1</td>\n",
       "      <td>2019-03-03</td>\n",
       "      <td>200.0</td>\n",
       "      <td>2</td>\n",
       "    </tr>\n",
       "    <tr>\n",
       "      <th>3</th>\n",
       "      <td>customer1</td>\n",
       "      <td>2019-03-04</td>\n",
       "      <td>160.0</td>\n",
       "      <td>3</td>\n",
       "    </tr>\n",
       "    <tr>\n",
       "      <th>4</th>\n",
       "      <td>customer1</td>\n",
       "      <td>2019-03-05</td>\n",
       "      <td>240.0</td>\n",
       "      <td>3</td>\n",
       "    </tr>\n",
       "    <tr>\n",
       "      <th>...</th>\n",
       "      <td>...</td>\n",
       "      <td>...</td>\n",
       "      <td>...</td>\n",
       "      <td>...</td>\n",
       "    </tr>\n",
       "    <tr>\n",
       "      <th>28600</th>\n",
       "      <td>customer996</td>\n",
       "      <td>2019-03-14</td>\n",
       "      <td>25.0</td>\n",
       "      <td>1</td>\n",
       "    </tr>\n",
       "    <tr>\n",
       "      <th>28601</th>\n",
       "      <td>customer996</td>\n",
       "      <td>2019-09-13</td>\n",
       "      <td>25.0</td>\n",
       "      <td>2</td>\n",
       "    </tr>\n",
       "    <tr>\n",
       "      <th>28602</th>\n",
       "      <td>customer997</td>\n",
       "      <td>2019-09-22</td>\n",
       "      <td>50.0</td>\n",
       "      <td>1</td>\n",
       "    </tr>\n",
       "    <tr>\n",
       "      <th>28603</th>\n",
       "      <td>customer998</td>\n",
       "      <td>2019-11-09</td>\n",
       "      <td>50.0</td>\n",
       "      <td>2</td>\n",
       "    </tr>\n",
       "    <tr>\n",
       "      <th>28604</th>\n",
       "      <td>customer999</td>\n",
       "      <td>2019-03-20</td>\n",
       "      <td>750.0</td>\n",
       "      <td>2</td>\n",
       "    </tr>\n",
       "  </tbody>\n",
       "</table>\n",
       "<p>28605 rows × 4 columns</p>\n",
       "</div>"
      ],
      "text/plain": [
       "      AccountIdentifier  ReqDateUTC  TransactionAmount  TransactionType\n",
       "0             customer1  2019-03-01              120.0                3\n",
       "1             customer1  2019-03-02              125.0                2\n",
       "2             customer1  2019-03-03              200.0                2\n",
       "3             customer1  2019-03-04              160.0                3\n",
       "4             customer1  2019-03-05              240.0                3\n",
       "...                 ...         ...                ...              ...\n",
       "28600       customer996  2019-03-14               25.0                1\n",
       "28601       customer996  2019-09-13               25.0                2\n",
       "28602       customer997  2019-09-22               50.0                1\n",
       "28603       customer998  2019-11-09               50.0                2\n",
       "28604       customer999  2019-03-20              750.0                2\n",
       "\n",
       "[28605 rows x 4 columns]"
      ]
     },
     "execution_count": 194,
     "metadata": {},
     "output_type": "execute_result"
    }
   ],
   "source": [
    "df[\"ReqDateUTC\"] = df.ReqTimeUTC.dt.to_period(\"D\")\n",
    "df.groupby([\"AccountIdentifier\", \"ReqDateUTC\"]).agg({\"TransactionAmount\": \"sum\", \"TransactionType\":\"count\"})\\\n",
    "    .reset_index()"
   ]
  },
  {
   "cell_type": "code",
   "execution_count": 195,
   "metadata": {},
   "outputs": [
    {
     "data": {
      "text/html": [
       "<div>\n",
       "<style scoped>\n",
       "    .dataframe tbody tr th:only-of-type {\n",
       "        vertical-align: middle;\n",
       "    }\n",
       "\n",
       "    .dataframe tbody tr th {\n",
       "        vertical-align: top;\n",
       "    }\n",
       "\n",
       "    .dataframe thead th {\n",
       "        text-align: right;\n",
       "    }\n",
       "</style>\n",
       "<table border=\"1\" class=\"dataframe\">\n",
       "  <thead>\n",
       "    <tr style=\"text-align: right;\">\n",
       "      <th></th>\n",
       "      <th>customer</th>\n",
       "      <th>timest</th>\n",
       "      <th>amount</th>\n",
       "    </tr>\n",
       "  </thead>\n",
       "  <tbody>\n",
       "    <tr>\n",
       "      <th>0</th>\n",
       "      <td>customer1</td>\n",
       "      <td>2019-03-01 17:24:43+00:00</td>\n",
       "      <td>30.0</td>\n",
       "    </tr>\n",
       "    <tr>\n",
       "      <th>1</th>\n",
       "      <td>customer1</td>\n",
       "      <td>2019-03-01 19:54:04+00:00</td>\n",
       "      <td>50.0</td>\n",
       "    </tr>\n",
       "    <tr>\n",
       "      <th>2</th>\n",
       "      <td>customer1</td>\n",
       "      <td>2019-03-01 22:44:15+00:00</td>\n",
       "      <td>40.0</td>\n",
       "    </tr>\n",
       "    <tr>\n",
       "      <th>3</th>\n",
       "      <td>customer1</td>\n",
       "      <td>2019-03-02 02:44:20+00:00</td>\n",
       "      <td>100.0</td>\n",
       "    </tr>\n",
       "    <tr>\n",
       "      <th>4</th>\n",
       "      <td>customer1</td>\n",
       "      <td>2019-03-02 18:28:39+00:00</td>\n",
       "      <td>25.0</td>\n",
       "    </tr>\n",
       "  </tbody>\n",
       "</table>\n",
       "</div>"
      ],
      "text/plain": [
       "    customer                    timest  amount\n",
       "0  customer1 2019-03-01 17:24:43+00:00    30.0\n",
       "1  customer1 2019-03-01 19:54:04+00:00    50.0\n",
       "2  customer1 2019-03-01 22:44:15+00:00    40.0\n",
       "3  customer1 2019-03-02 02:44:20+00:00   100.0\n",
       "4  customer1 2019-03-02 18:28:39+00:00    25.0"
      ]
     },
     "execution_count": 195,
     "metadata": {},
     "output_type": "execute_result"
    }
   ],
   "source": [
    "# Remove Single Value Columns\n",
    "df = df[[\"AccountIdentifier\", \"ReqTimeUTC\", \"TransactionAmount\"]]\n",
    "\n",
    "# Sort df by columns\n",
    "df = df.sort_values([\"AccountIdentifier\", \"ReqTimeUTC\"]).reset_index(drop=True)\n",
    "\n",
    "# Rename Columns\n",
    "df.rename(columns={\"AccountIdentifier\": \"customer\", \"ReqTimeUTC\": \"timest\", \"TransactionAmount\": \"amount\"}, inplace=True)\n",
    "\n",
    "df.head()"
   ]
  },
  {
   "cell_type": "code",
   "execution_count": 196,
   "metadata": {},
   "outputs": [
    {
     "data": {
      "text/plain": [
       "(69734, 3)"
      ]
     },
     "execution_count": 196,
     "metadata": {},
     "output_type": "execute_result"
    }
   ],
   "source": [
    "df.shape"
   ]
  },
  {
   "cell_type": "markdown",
   "metadata": {},
   "source": [
    "#### Problem Framing\n",
    "\n",
    "1. What could be answer to question \"Will a customer purchase at least one in the next 3 days?\"\n",
    "2. Supervised/ Unsupervised? \n",
    "3. What Algorithms suitable?\n",
    "4. What data do we need? (time-level: day)"
   ]
  },
  {
   "cell_type": "markdown",
   "metadata": {},
   "source": [
    "#### Feature Engineering "
   ]
  },
  {
   "cell_type": "code",
   "execution_count": 197,
   "metadata": {},
   "outputs": [
    {
     "data": {
      "text/html": [
       "<div>\n",
       "<style scoped>\n",
       "    .dataframe tbody tr th:only-of-type {\n",
       "        vertical-align: middle;\n",
       "    }\n",
       "\n",
       "    .dataframe tbody tr th {\n",
       "        vertical-align: top;\n",
       "    }\n",
       "\n",
       "    .dataframe thead th {\n",
       "        text-align: right;\n",
       "    }\n",
       "</style>\n",
       "<table border=\"1\" class=\"dataframe\">\n",
       "  <thead>\n",
       "    <tr style=\"text-align: right;\">\n",
       "      <th></th>\n",
       "      <th>customer</th>\n",
       "      <th>day</th>\n",
       "      <th>daily_amount</th>\n",
       "      <th>nr_trans</th>\n",
       "    </tr>\n",
       "  </thead>\n",
       "  <tbody>\n",
       "    <tr>\n",
       "      <th>0</th>\n",
       "      <td>customer1</td>\n",
       "      <td>2019-03-01 00:00:00+00:00</td>\n",
       "      <td>120.0</td>\n",
       "      <td>3</td>\n",
       "    </tr>\n",
       "    <tr>\n",
       "      <th>1</th>\n",
       "      <td>customer1</td>\n",
       "      <td>2019-03-02 00:00:00+00:00</td>\n",
       "      <td>125.0</td>\n",
       "      <td>2</td>\n",
       "    </tr>\n",
       "    <tr>\n",
       "      <th>2</th>\n",
       "      <td>customer1</td>\n",
       "      <td>2019-03-03 00:00:00+00:00</td>\n",
       "      <td>200.0</td>\n",
       "      <td>2</td>\n",
       "    </tr>\n",
       "    <tr>\n",
       "      <th>3</th>\n",
       "      <td>customer1</td>\n",
       "      <td>2019-03-04 00:00:00+00:00</td>\n",
       "      <td>160.0</td>\n",
       "      <td>3</td>\n",
       "    </tr>\n",
       "    <tr>\n",
       "      <th>4</th>\n",
       "      <td>customer1</td>\n",
       "      <td>2019-03-05 00:00:00+00:00</td>\n",
       "      <td>240.0</td>\n",
       "      <td>3</td>\n",
       "    </tr>\n",
       "  </tbody>\n",
       "</table>\n",
       "</div>"
      ],
      "text/plain": [
       "    customer                       day  daily_amount  nr_trans\n",
       "0  customer1 2019-03-01 00:00:00+00:00         120.0         3\n",
       "1  customer1 2019-03-02 00:00:00+00:00         125.0         2\n",
       "2  customer1 2019-03-03 00:00:00+00:00         200.0         2\n",
       "3  customer1 2019-03-04 00:00:00+00:00         160.0         3\n",
       "4  customer1 2019-03-05 00:00:00+00:00         240.0         3"
      ]
     },
     "execution_count": 197,
     "metadata": {},
     "output_type": "execute_result"
    }
   ],
   "source": [
    "df[\"day\"] = df.timest.dt.floor(\"D\") # Day Level\n",
    "daily_activity = df.groupby([\"customer\", \"day\"]).agg({\"amount\": [\"sum\", \"count\"]}).reset_index()\n",
    "daily_activity = daily_activity.droplevel(axis = 1, level=1)\n",
    "daily_activity.columns = [\"customer\", \"day\", \"daily_amount\", \"nr_trans\"]\n",
    "daily_activity.head()"
   ]
  },
  {
   "cell_type": "code",
   "execution_count": 198,
   "metadata": {},
   "outputs": [
    {
     "data": {
      "text/html": [
       "<div>\n",
       "<style scoped>\n",
       "    .dataframe tbody tr th:only-of-type {\n",
       "        vertical-align: middle;\n",
       "    }\n",
       "\n",
       "    .dataframe tbody tr th {\n",
       "        vertical-align: top;\n",
       "    }\n",
       "\n",
       "    .dataframe thead th {\n",
       "        text-align: right;\n",
       "    }\n",
       "</style>\n",
       "<table border=\"1\" class=\"dataframe\">\n",
       "  <thead>\n",
       "    <tr style=\"text-align: right;\">\n",
       "      <th></th>\n",
       "      <th>customer</th>\n",
       "      <th>timest</th>\n",
       "      <th>amount</th>\n",
       "      <th>day</th>\n",
       "    </tr>\n",
       "  </thead>\n",
       "  <tbody>\n",
       "    <tr>\n",
       "      <th>20</th>\n",
       "      <td>customer1</td>\n",
       "      <td>2019-03-08 17:32:12+00:00</td>\n",
       "      <td>100.0</td>\n",
       "      <td>2019-03-08 00:00:00+00:00</td>\n",
       "    </tr>\n",
       "    <tr>\n",
       "      <th>21</th>\n",
       "      <td>customer1</td>\n",
       "      <td>2019-03-09 04:47:25+00:00</td>\n",
       "      <td>100.0</td>\n",
       "      <td>2019-03-09 00:00:00+00:00</td>\n",
       "    </tr>\n",
       "    <tr>\n",
       "      <th>22</th>\n",
       "      <td>customer1</td>\n",
       "      <td>2019-03-09 18:17:35+00:00</td>\n",
       "      <td>60.0</td>\n",
       "      <td>2019-03-09 00:00:00+00:00</td>\n",
       "    </tr>\n",
       "    <tr>\n",
       "      <th>23</th>\n",
       "      <td>customer1</td>\n",
       "      <td>2019-03-09 19:12:47+00:00</td>\n",
       "      <td>40.0</td>\n",
       "      <td>2019-03-09 00:00:00+00:00</td>\n",
       "    </tr>\n",
       "    <tr>\n",
       "      <th>24</th>\n",
       "      <td>customer1</td>\n",
       "      <td>2019-03-15 14:16:05+00:00</td>\n",
       "      <td>25.0</td>\n",
       "      <td>2019-03-15 00:00:00+00:00</td>\n",
       "    </tr>\n",
       "    <tr>\n",
       "      <th>25</th>\n",
       "      <td>customer1</td>\n",
       "      <td>2019-03-15 15:30:53+00:00</td>\n",
       "      <td>30.0</td>\n",
       "      <td>2019-03-15 00:00:00+00:00</td>\n",
       "    </tr>\n",
       "    <tr>\n",
       "      <th>26</th>\n",
       "      <td>customer1</td>\n",
       "      <td>2019-03-15 22:25:57+00:00</td>\n",
       "      <td>30.0</td>\n",
       "      <td>2019-03-15 00:00:00+00:00</td>\n",
       "    </tr>\n",
       "    <tr>\n",
       "      <th>27</th>\n",
       "      <td>customer1</td>\n",
       "      <td>2019-03-16 18:35:41+00:00</td>\n",
       "      <td>25.0</td>\n",
       "      <td>2019-03-16 00:00:00+00:00</td>\n",
       "    </tr>\n",
       "    <tr>\n",
       "      <th>28</th>\n",
       "      <td>customer1</td>\n",
       "      <td>2019-03-17 03:10:51+00:00</td>\n",
       "      <td>20.0</td>\n",
       "      <td>2019-03-17 00:00:00+00:00</td>\n",
       "    </tr>\n",
       "    <tr>\n",
       "      <th>29</th>\n",
       "      <td>customer1</td>\n",
       "      <td>2019-03-17 14:50:08+00:00</td>\n",
       "      <td>15.0</td>\n",
       "      <td>2019-03-17 00:00:00+00:00</td>\n",
       "    </tr>\n",
       "    <tr>\n",
       "      <th>30</th>\n",
       "      <td>customer1</td>\n",
       "      <td>2019-03-29 13:50:04+00:00</td>\n",
       "      <td>50.0</td>\n",
       "      <td>2019-03-29 00:00:00+00:00</td>\n",
       "    </tr>\n",
       "    <tr>\n",
       "      <th>31</th>\n",
       "      <td>customer1</td>\n",
       "      <td>2019-03-29 15:32:15+00:00</td>\n",
       "      <td>40.0</td>\n",
       "      <td>2019-03-29 00:00:00+00:00</td>\n",
       "    </tr>\n",
       "  </tbody>\n",
       "</table>\n",
       "</div>"
      ],
      "text/plain": [
       "     customer                    timest  amount                       day\n",
       "20  customer1 2019-03-08 17:32:12+00:00   100.0 2019-03-08 00:00:00+00:00\n",
       "21  customer1 2019-03-09 04:47:25+00:00   100.0 2019-03-09 00:00:00+00:00\n",
       "22  customer1 2019-03-09 18:17:35+00:00    60.0 2019-03-09 00:00:00+00:00\n",
       "23  customer1 2019-03-09 19:12:47+00:00    40.0 2019-03-09 00:00:00+00:00\n",
       "24  customer1 2019-03-15 14:16:05+00:00    25.0 2019-03-15 00:00:00+00:00\n",
       "25  customer1 2019-03-15 15:30:53+00:00    30.0 2019-03-15 00:00:00+00:00\n",
       "26  customer1 2019-03-15 22:25:57+00:00    30.0 2019-03-15 00:00:00+00:00\n",
       "27  customer1 2019-03-16 18:35:41+00:00    25.0 2019-03-16 00:00:00+00:00\n",
       "28  customer1 2019-03-17 03:10:51+00:00    20.0 2019-03-17 00:00:00+00:00\n",
       "29  customer1 2019-03-17 14:50:08+00:00    15.0 2019-03-17 00:00:00+00:00\n",
       "30  customer1 2019-03-29 13:50:04+00:00    50.0 2019-03-29 00:00:00+00:00\n",
       "31  customer1 2019-03-29 15:32:15+00:00    40.0 2019-03-29 00:00:00+00:00"
      ]
     },
     "execution_count": 198,
     "metadata": {},
     "output_type": "execute_result"
    }
   ],
   "source": [
    "# Does customer purchase everyday? Logically No.\n",
    "\n",
    "df[df.customer == \"customer1\"][20:32]"
   ]
  },
  {
   "cell_type": "code",
   "execution_count": 199,
   "metadata": {},
   "outputs": [
    {
     "name": "stdout",
     "output_type": "stream",
     "text": [
      "164656\n"
     ]
    }
   ],
   "source": [
    "full_customer = pd.DataFrame()\n",
    "customer_ids = daily_activity.customer.unique()\n",
    "len(customer_ids)\n",
    "\n",
    "for customer in customer_ids:\n",
    "    customer_df = daily_activity[daily_activity.customer == customer]\n",
    "    customer_full_date_range = pd.date_range(\n",
    "        customer_df.day.min(), \n",
    "        customer_df.day.max(),\n",
    "        freq=\"D\"\n",
    "    )\n",
    "    \n",
    "    customer_df = customer_df.set_index(keys=\"day\").copy()\n",
    "    customer_df = customer_df.reindex(list(customer_full_date_range), fill_value=0)\n",
    "    customer_df[\"customer\"] = [customer]*len(customer_df)\n",
    "    customer_df = customer_df.reset_index()\n",
    "    \n",
    "    full_customer = pd.concat([full_customer, customer_df]) \n",
    "\n",
    "full_customer = full_customer.reset_index(drop=True)\n",
    "print(len(full_customer))\n",
    "    "
   ]
  },
  {
   "cell_type": "code",
   "execution_count": 202,
   "metadata": {},
   "outputs": [],
   "source": [
    "ml_df = pd.DataFrame()\n",
    "\n",
    "for customer in customer_ids:\n",
    "\n",
    "    customer_df = full_customer[full_customer.customer == customer]\n",
    "    customer_df = customer_df.reset_index(drop = True)\n",
    "\n",
    "    features = []\n",
    "    responses = []\n",
    "\n",
    "    x1, x14, y = 0, 14, 17\n",
    "\n",
    "    while y <= len(customer_df):\n",
    "\n",
    "        # Base\n",
    "        feat_x1_x14 = customer_df.nr_trans[x1: x14].values.tolist()\n",
    "        trans_next_3_days = np.count_nonzero(customer_df.nr_trans[x14: y])\n",
    "        response = [1 if trans_next_3_days != 0 else 0][0]\n",
    "        responses.append(response)\n",
    "\n",
    "        # Additional Infos\n",
    "        \n",
    "        # Deposit in the last 14 days\n",
    "        x15 = np.count_nonzero(customer_df.nr_trans[x1: x14])\n",
    "\n",
    "        # Deposit in the last 7 days\n",
    "        x16 = np.count_nonzero(customer_df.nr_trans[x1+7: x14])\n",
    "\n",
    "        # In the last 3 days\n",
    "        x17 = np.count_nonzero(customer_df.nr_trans[x14-2: x14+1])\n",
    "\n",
    "        # Average number of deposits in the last 14 day\n",
    "        x18 = customer_df.nr_trans[x1: x14].mean().tolist()\n",
    "        \n",
    "        # Max daily deposit in the last 7 day\n",
    "        x19 = customer_df.nr_trans[x1+7: x14].max().tolist()\n",
    "        \n",
    "        x20 = customer_df.daily_amount[x1+7: x14].sum().tolist()\n",
    "\n",
    "        x21 = customer_df.daily_amount[x1+7: x14].mean().tolist()\n",
    "\n",
    "        feat_x1_x14.extend([x15, x16, x17, x18, x19, x20, x21, customer])\n",
    "        features.append(feat_x1_x14)\n",
    "        # Increment\n",
    "        x1 += 1\n",
    "        x14 += 1\n",
    "        y += 1\n",
    "\n",
    "\n",
    "    \n",
    "    df = pd.DataFrame(features)\n",
    "    df[\"response\"] = responses\n",
    "    ml_df = pd.concat([ml_df, df])"
   ]
  },
  {
   "cell_type": "code",
   "execution_count": 203,
   "metadata": {},
   "outputs": [
    {
     "data": {
      "text/html": [
       "<div>\n",
       "<style scoped>\n",
       "    .dataframe tbody tr th:only-of-type {\n",
       "        vertical-align: middle;\n",
       "    }\n",
       "\n",
       "    .dataframe tbody tr th {\n",
       "        vertical-align: top;\n",
       "    }\n",
       "\n",
       "    .dataframe thead th {\n",
       "        text-align: right;\n",
       "    }\n",
       "</style>\n",
       "<table border=\"1\" class=\"dataframe\">\n",
       "  <thead>\n",
       "    <tr style=\"text-align: right;\">\n",
       "      <th></th>\n",
       "      <th>0</th>\n",
       "      <th>1</th>\n",
       "      <th>2</th>\n",
       "      <th>3</th>\n",
       "      <th>4</th>\n",
       "      <th>5</th>\n",
       "      <th>6</th>\n",
       "      <th>7</th>\n",
       "      <th>8</th>\n",
       "      <th>9</th>\n",
       "      <th>...</th>\n",
       "      <th>13</th>\n",
       "      <th>14</th>\n",
       "      <th>15</th>\n",
       "      <th>16</th>\n",
       "      <th>17</th>\n",
       "      <th>18</th>\n",
       "      <th>19</th>\n",
       "      <th>20</th>\n",
       "      <th>21</th>\n",
       "      <th>response</th>\n",
       "    </tr>\n",
       "  </thead>\n",
       "  <tbody>\n",
       "    <tr>\n",
       "      <th>0</th>\n",
       "      <td>3.0</td>\n",
       "      <td>2.0</td>\n",
       "      <td>2.0</td>\n",
       "      <td>3.0</td>\n",
       "      <td>3.0</td>\n",
       "      <td>4.0</td>\n",
       "      <td>2.0</td>\n",
       "      <td>2.0</td>\n",
       "      <td>3.0</td>\n",
       "      <td>0.0</td>\n",
       "      <td>...</td>\n",
       "      <td>0.0</td>\n",
       "      <td>9.0</td>\n",
       "      <td>2.0</td>\n",
       "      <td>1.0</td>\n",
       "      <td>1.714286</td>\n",
       "      <td>3.0</td>\n",
       "      <td>400.0</td>\n",
       "      <td>57.142857</td>\n",
       "      <td>customer1</td>\n",
       "      <td>1.0</td>\n",
       "    </tr>\n",
       "    <tr>\n",
       "      <th>1</th>\n",
       "      <td>2.0</td>\n",
       "      <td>2.0</td>\n",
       "      <td>3.0</td>\n",
       "      <td>3.0</td>\n",
       "      <td>4.0</td>\n",
       "      <td>2.0</td>\n",
       "      <td>2.0</td>\n",
       "      <td>3.0</td>\n",
       "      <td>0.0</td>\n",
       "      <td>0.0</td>\n",
       "      <td>...</td>\n",
       "      <td>3.0</td>\n",
       "      <td>9.0</td>\n",
       "      <td>2.0</td>\n",
       "      <td>2.0</td>\n",
       "      <td>1.714286</td>\n",
       "      <td>3.0</td>\n",
       "      <td>285.0</td>\n",
       "      <td>40.714286</td>\n",
       "      <td>customer1</td>\n",
       "      <td>1.0</td>\n",
       "    </tr>\n",
       "    <tr>\n",
       "      <th>2</th>\n",
       "      <td>2.0</td>\n",
       "      <td>3.0</td>\n",
       "      <td>3.0</td>\n",
       "      <td>4.0</td>\n",
       "      <td>2.0</td>\n",
       "      <td>2.0</td>\n",
       "      <td>3.0</td>\n",
       "      <td>0.0</td>\n",
       "      <td>0.0</td>\n",
       "      <td>0.0</td>\n",
       "      <td>...</td>\n",
       "      <td>1.0</td>\n",
       "      <td>9.0</td>\n",
       "      <td>2.0</td>\n",
       "      <td>3.0</td>\n",
       "      <td>1.642857</td>\n",
       "      <td>3.0</td>\n",
       "      <td>110.0</td>\n",
       "      <td>15.714286</td>\n",
       "      <td>customer1</td>\n",
       "      <td>1.0</td>\n",
       "    </tr>\n",
       "    <tr>\n",
       "      <th>3</th>\n",
       "      <td>3.0</td>\n",
       "      <td>3.0</td>\n",
       "      <td>4.0</td>\n",
       "      <td>2.0</td>\n",
       "      <td>2.0</td>\n",
       "      <td>3.0</td>\n",
       "      <td>0.0</td>\n",
       "      <td>0.0</td>\n",
       "      <td>0.0</td>\n",
       "      <td>0.0</td>\n",
       "      <td>...</td>\n",
       "      <td>2.0</td>\n",
       "      <td>9.0</td>\n",
       "      <td>3.0</td>\n",
       "      <td>2.0</td>\n",
       "      <td>1.642857</td>\n",
       "      <td>3.0</td>\n",
       "      <td>145.0</td>\n",
       "      <td>20.714286</td>\n",
       "      <td>customer1</td>\n",
       "      <td>0.0</td>\n",
       "    </tr>\n",
       "    <tr>\n",
       "      <th>4</th>\n",
       "      <td>3.0</td>\n",
       "      <td>4.0</td>\n",
       "      <td>2.0</td>\n",
       "      <td>2.0</td>\n",
       "      <td>3.0</td>\n",
       "      <td>0.0</td>\n",
       "      <td>0.0</td>\n",
       "      <td>0.0</td>\n",
       "      <td>0.0</td>\n",
       "      <td>0.0</td>\n",
       "      <td>...</td>\n",
       "      <td>0.0</td>\n",
       "      <td>8.0</td>\n",
       "      <td>3.0</td>\n",
       "      <td>1.0</td>\n",
       "      <td>1.428571</td>\n",
       "      <td>3.0</td>\n",
       "      <td>145.0</td>\n",
       "      <td>20.714286</td>\n",
       "      <td>customer1</td>\n",
       "      <td>0.0</td>\n",
       "    </tr>\n",
       "  </tbody>\n",
       "</table>\n",
       "<p>5 rows × 23 columns</p>\n",
       "</div>"
      ],
      "text/plain": [
       "     0    1    2    3    4    5    6    7    8    9  ...   13   14   15   16  \\\n",
       "0  3.0  2.0  2.0  3.0  3.0  4.0  2.0  2.0  3.0  0.0  ...  0.0  9.0  2.0  1.0   \n",
       "1  2.0  2.0  3.0  3.0  4.0  2.0  2.0  3.0  0.0  0.0  ...  3.0  9.0  2.0  2.0   \n",
       "2  2.0  3.0  3.0  4.0  2.0  2.0  3.0  0.0  0.0  0.0  ...  1.0  9.0  2.0  3.0   \n",
       "3  3.0  3.0  4.0  2.0  2.0  3.0  0.0  0.0  0.0  0.0  ...  2.0  9.0  3.0  2.0   \n",
       "4  3.0  4.0  2.0  2.0  3.0  0.0  0.0  0.0  0.0  0.0  ...  0.0  8.0  3.0  1.0   \n",
       "\n",
       "         17   18     19         20         21  response  \n",
       "0  1.714286  3.0  400.0  57.142857  customer1       1.0  \n",
       "1  1.714286  3.0  285.0  40.714286  customer1       1.0  \n",
       "2  1.642857  3.0  110.0  15.714286  customer1       1.0  \n",
       "3  1.642857  3.0  145.0  20.714286  customer1       0.0  \n",
       "4  1.428571  3.0  145.0  20.714286  customer1       0.0  \n",
       "\n",
       "[5 rows x 23 columns]"
      ]
     },
     "execution_count": 203,
     "metadata": {},
     "output_type": "execute_result"
    }
   ],
   "source": [
    "ml_df.head()"
   ]
  },
  {
   "cell_type": "markdown",
   "metadata": {},
   "source": [
    "#### Train Test Split"
   ]
  },
  {
   "cell_type": "code",
   "execution_count": 204,
   "metadata": {},
   "outputs": [],
   "source": [
    "ml_df = ml_df.drop_duplicates(subset=list(range(20))).reset_index(drop=True)"
   ]
  },
  {
   "cell_type": "code",
   "execution_count": 205,
   "metadata": {},
   "outputs": [],
   "source": [
    "le = LabelEncoder()\n",
    "ml_df.response = le.fit_transform(ml_df.response)"
   ]
  },
  {
   "cell_type": "code",
   "execution_count": 208,
   "metadata": {},
   "outputs": [],
   "source": [
    "Counter(ml_df.response) # Balanced Data Set.\n",
    "balanced_df = ml_df"
   ]
  },
  {
   "cell_type": "code",
   "execution_count": 210,
   "metadata": {},
   "outputs": [],
   "source": [
    "# Split by customer id to perevent data leakage\n",
    "\n",
    "split_df = balanced_df.iloc[:, [21, 22]].groupby(21).count().reset_index()\n",
    "test_customer = list(split_df.sample(frac=.2)[21])"
   ]
  },
  {
   "cell_type": "code",
   "execution_count": 212,
   "metadata": {},
   "outputs": [
    {
     "name": "stdout",
     "output_type": "stream",
     "text": [
      "Counter({1: 24381, 0: 18385})\n",
      "Counter({1: 7153, 0: 4316})\n"
     ]
    }
   ],
   "source": [
    "test_df = balanced_df[balanced_df[21].isin(test_customer)]\n",
    "train_df = balanced_df[~balanced_df[21].isin(test_customer)]\n",
    "\n",
    "print(Counter(train_df.response))\n",
    "print(Counter(test_df.response))"
   ]
  },
  {
   "cell_type": "code",
   "execution_count": 213,
   "metadata": {},
   "outputs": [],
   "source": [
    "x_train, x_test, y_train, y_test = train_df.iloc[:, :21], test_df.iloc[:, :21], train_df.response, test_df.response"
   ]
  },
  {
   "cell_type": "code",
   "execution_count": 214,
   "metadata": {},
   "outputs": [
    {
     "name": "stdout",
     "output_type": "stream",
     "text": [
      "0.7917972220923163\n",
      "0.7860319121109076\n"
     ]
    }
   ],
   "source": [
    "# Training the model\n",
    "\n",
    "xgb_classifier = xgb.XGBClassifier(eta = 0.05)\n",
    "xgb_classifier.fit(x_train, y_train)\n",
    "\n",
    "print(xgb_classifier.score(x_train, y_train))\n",
    "print(xgb_classifier.score(x_test, y_test))"
   ]
  },
  {
   "cell_type": "markdown",
   "metadata": {},
   "source": [
    "#### Metrics"
   ]
  },
  {
   "cell_type": "code",
   "execution_count": 215,
   "metadata": {},
   "outputs": [
    {
     "data": {
      "text/plain": [
       "array([[3770,  546],\n",
       "       [1908, 5245]], dtype=int64)"
      ]
     },
     "execution_count": 215,
     "metadata": {},
     "output_type": "execute_result"
    }
   ],
   "source": [
    "# Predict\n",
    "\n",
    "pred_labels = xgb_classifier.predict(x_test)\n",
    "confusion_matrix(y_true=y_test, y_pred=pred_labels)"
   ]
  },
  {
   "cell_type": "code",
   "execution_count": 217,
   "metadata": {},
   "outputs": [
    {
     "name": "stdout",
     "output_type": "stream",
     "text": [
      "Accuracy is:  0.7860319121109076\n",
      "Precision is:  0.9057157658435503\n",
      "Recall is:  0.733258772542989\n",
      "Miss rate is:  0.26674122745701107\n"
     ]
    }
   ],
   "source": [
    "tn, fp, fn, tp = confusion_matrix(y_true=y_test, y_pred=pred_labels).ravel()\n",
    "\n",
    "recall = tp/(tp+fn)\n",
    "precision = tp/(tp+fp)\n",
    "\n",
    "false_negative_rate = fn/(tp+fn)\n",
    "\n",
    "print(\"Accuracy is: \", ((tp+tn)/len(y_test)))\n",
    "print(\"Precision is: \", precision)\n",
    "print(\"Recall is: \", recall)\n",
    "print(\"Miss rate is: \", false_negative_rate)"
   ]
  },
  {
   "cell_type": "code",
   "execution_count": null,
   "metadata": {},
   "outputs": [],
   "source": []
  }
 ],
 "metadata": {
  "kernelspec": {
   "display_name": "Python 3",
   "language": "python",
   "name": "python3"
  },
  "language_info": {
   "codemirror_mode": {
    "name": "ipython",
    "version": 3
   },
   "file_extension": ".py",
   "mimetype": "text/x-python",
   "name": "python",
   "nbconvert_exporter": "python",
   "pygments_lexer": "ipython3",
   "version": "3.11.4"
  }
 },
 "nbformat": 4,
 "nbformat_minor": 2
}
